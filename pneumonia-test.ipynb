{
 "cells": [
  {
   "cell_type": "code",
   "execution_count": 78,
   "metadata": {},
   "outputs": [],
   "source": [
    "import os\n",
    "import scipy\n",
    "from skimage.transform import resize\n",
    "import numpy as np\n",
    "import tqdm\n",
    "import cv2\n",
    "import matplotlib.pyplot as plt\n",
    "from tqdm import tqdm\n",
    "from keras.applications.inception_v3 import InceptionV3\n",
    "from keras.preprocessing import image\n",
    "from keras.models import Model\n",
    "from keras import backend as K\n",
    "from keras.utils import to_categorical\n",
    "from keras.models import Sequential\n",
    "from keras.layers import Conv2D,MaxPool2D,Dense,Dropout,Softmax,Input,Flatten\n",
    "from keras.optimizers import Adam,RMSprop,SGD\n",
    "from keras.layers.merge import add\n",
    "from keras.layers import Dense, Activation, Flatten\n",
    "from keras.layers import Conv2D, MaxPooling2D, BatchNormalization\n",
    "from keras.layers import BatchNormalization\n",
    "\n",
    "K.set_image_data_format('channels_last')\n",
    "\n",
    "%matplotlib inline"
   ]
  },
  {
   "cell_type": "markdown",
   "metadata": {},
   "source": [
    "Training Set"
   ]
  },
  {
   "cell_type": "code",
   "execution_count": 79,
   "metadata": {},
   "outputs": [
    {
     "name": "stdout",
     "output_type": "stream",
     "text": [
      "Num of Normal in Train =  1341\n",
      "Num of Pneumonia in Train =  3875\n",
      "Training Data Size =  5216\n"
     ]
    }
   ],
   "source": [
    "train0_namelist = os.listdir('chest_xray/train/NORMAL')\n",
    "train0_namelist = train0_namelist[1:]\n",
    "train1_namelist = os.listdir('chest_xray/train/PNEUMONIA')\n",
    "train1_namelist = train1_namelist[1:]\n",
    "num_train0 = len(train0_namelist)\n",
    "print ('Num of Normal in Train = ', num_train0)\n",
    "num_train1 = len(train1_namelist)\n",
    "print ('Num of Pneumonia in Train = ', num_train1)\n",
    "print ('Training Data Size = ' , num_train0 + num_train1)"
   ]
  },
  {
   "cell_type": "code",
   "execution_count": 80,
   "metadata": {},
   "outputs": [
    {
     "name": "stderr",
     "output_type": "stream",
     "text": [
      "  0%|          | 0/1341 [00:00<?, ?it/s]/Users/allen/env/lib/python3.6/site-packages/skimage/transform/_warps.py:105: UserWarning: The default mode, 'constant', will be changed to 'reflect' in skimage 0.15.\n",
      "  warn(\"The default mode, 'constant', will be changed to 'reflect' in \"\n",
      "/Users/allen/env/lib/python3.6/site-packages/skimage/transform/_warps.py:110: UserWarning: Anti-aliasing will be enabled by default in skimage 0.15 to avoid aliasing artifacts when down-sampling images.\n",
      "  warn(\"Anti-aliasing will be enabled by default in skimage 0.15 to \"\n",
      "100%|██████████| 1341/1341 [01:53<00:00, 11.82it/s]\n",
      "100%|██████████| 3875/3875 [02:35<00:00, 24.95it/s]\n"
     ]
    }
   ],
   "source": [
    "Train_x = []\n",
    "Train_y = []\n",
    "for image_name in tqdm(train0_namelist):\n",
    "    im = cv2.imread('chest_xray/train/NORMAL/' + image_name)\n",
    "    im = resize(im/255.,(64,64,3))\n",
    "    #im = scipy.misc.imresize(im,(128,128,3))\n",
    "    Train_x.append(im)\n",
    "    Train_y.append(0)\n",
    "    \n",
    "for image_name in tqdm(train1_namelist):\n",
    "    im = cv2.imread('chest_xray/train/PNEUMONIA/' + image_name)\n",
    "    im = resize(im/255.,(64,64,3))\n",
    "    #im = scipy.misc.imresize(im,(128,128,3))\n",
    "    Train_x.append(im)\n",
    "    Train_y.append(1)  \n",
    "    \n",
    "      "
   ]
  },
  {
   "cell_type": "code",
   "execution_count": 81,
   "metadata": {},
   "outputs": [
    {
     "data": {
      "text/plain": [
       "<matplotlib.image.AxesImage at 0x122c05e48>"
      ]
     },
     "execution_count": 81,
     "metadata": {},
     "output_type": "execute_result"
    },
    {
     "data": {
      "image/png": "[encoded data removed]",
      "text/plain": [
       "<Figure size 432x288 with 1 Axes>"
      ]
     },
     "metadata": {},
     "output_type": "display_data"
    }
   ],
   "source": [
    "Train_x = np.array(Train_x)\n",
    "Train_y = np.array(Train_y)\n",
    "plt.imshow(Train_x[1341,:,:,:]) "
   ]
  },
  {
   "cell_type": "markdown",
   "metadata": {},
   "source": [
    "Test Set"
   ]
  },
  {
   "cell_type": "code",
   "execution_count": 82,
   "metadata": {},
   "outputs": [
    {
     "name": "stdout",
     "output_type": "stream",
     "text": [
      "Num of Normal in Test =  233\n",
      "Num of Pneumonia in Test =  389\n",
      "Training Data Size =  622\n"
     ]
    }
   ],
   "source": [
    "test0_namelist = os.listdir('chest_xray/test/NORMAL')\n",
    "test0_namelist = test0_namelist[1:]\n",
    "test1_namelist = os.listdir('chest_xray/test/PNEUMONIA')\n",
    "test1_namelist = test1_namelist[1:]\n",
    "num_test0 = len(test0_namelist)\n",
    "print ('Num of Normal in Test = ', num_test0)\n",
    "num_test1 = len(test1_namelist)\n",
    "print ('Num of Pneumonia in Test = ', num_test1)\n",
    "print ('Training Data Size = ' , num_test0 + num_test1)"
   ]
  },
  {
   "cell_type": "code",
   "execution_count": 83,
   "metadata": {},
   "outputs": [
    {
     "name": "stderr",
     "output_type": "stream",
     "text": [
      "  0%|          | 0/233 [00:00<?, ?it/s]/Users/allen/env/lib/python3.6/site-packages/skimage/transform/_warps.py:105: UserWarning: The default mode, 'constant', will be changed to 'reflect' in skimage 0.15.\n",
      "  warn(\"The default mode, 'constant', will be changed to 'reflect' in \"\n",
      "/Users/allen/env/lib/python3.6/site-packages/skimage/transform/_warps.py:110: UserWarning: Anti-aliasing will be enabled by default in skimage 0.15 to avoid aliasing artifacts when down-sampling images.\n",
      "  warn(\"Anti-aliasing will be enabled by default in skimage 0.15 to \"\n",
      "100%|██████████| 233/233 [00:17<00:00, 13.02it/s]\n",
      "100%|██████████| 389/389 [00:11<00:00, 35.13it/s]"
     ]
    },
    {
     "name": "stdout",
     "output_type": "stream",
     "text": [
      "Train_x.shape: (5216, 64, 64, 3)\n",
      "Test_x.shape: (622, 64, 64, 3)\n",
      "Train_y.shape: (5216, 2)\n",
      "Test_y.shape: (622, 2)\n"
     ]
    },
    {
     "name": "stderr",
     "output_type": "stream",
     "text": [
      "\n"
     ]
    }
   ],
   "source": [
    "Test_x = []\n",
    "Test_y = []\n",
    "for image_name in tqdm(test0_namelist):\n",
    "    im = cv2.imread('chest_xray/test/NORMAL/' + image_name)\n",
    "    im = resize(im,(64,64,3))\n",
    "    #im = scipy.misc.imresize(im,(128,128,3))\n",
    "    Test_x.append(im)\n",
    "    Test_y.append(0)\n",
    "    \n",
    "for image_name in tqdm(test1_namelist):\n",
    "    im = cv2.imread('chest_xray/test/PNEUMONIA/' + image_name)\n",
    "    im = resize(im,(64,64,3))\n",
    "    #im = scipy.misc.imresize(im,(128,128,3))\n",
    "    Test_x.append(im)\n",
    "    Test_y.append(1)  \n",
    "    \n",
    "Test_x = np.asarray(Test_x)\n",
    "Test_y = np.asarray(Test_y)\n",
    "\n",
    "Train_y = to_categorical(Train_y)\n",
    "Test_y = to_categorical(Test_y)\n",
    "\n",
    "print('Train_x.shape:',Train_x.shape)\n",
    "print('Test_x.shape:',Test_x.shape)\n",
    "print('Train_y.shape:',Train_y.shape)\n",
    "print('Test_y.shape:',Test_y.shape)"
   ]
  },
  {
   "cell_type": "code",
   "execution_count": 84,
   "metadata": {},
   "outputs": [],
   "source": [
    "model = Sequential()\n",
    "model.add(Conv2D(filters=32, kernel_size=(3,3), activation=\"relu\", padding=\"same\",\n",
    "                 input_shape=(64,64,3)))\n",
    "model.add(Conv2D(filters=32, kernel_size=(3,3), activation=\"relu\", padding=\"same\"))\n",
    "model.add(BatchNormalization())\n",
    "model.add(MaxPooling2D(pool_size=(2,2)))\n",
    "model.add(Dropout(rate=0.25))\n",
    "model.add(Conv2D(filters=64, kernel_size=(3,3), activation=\"relu\", padding=\"same\"))\n",
    "model.add(Conv2D(filters=64, kernel_size=(3,3), activation=\"relu\", padding=\"same\"))\n",
    "model.add(BatchNormalization())\n",
    "model.add(MaxPooling2D(pool_size=(2,2)))\n",
    "model.add(Dropout(rate=0.25))\n",
    "model.add(Flatten())\n",
    "model.add(Dense(1024,activation=\"relu\"))\n",
    "model.add(BatchNormalization())\n",
    "model.add(Dropout(rate=0.4))\n",
    "model.add(Dense(2, activation=\"softmax\"))"
   ]
  },
  {
   "cell_type": "code",
   "execution_count": 85,
   "metadata": {},
   "outputs": [],
   "source": [
    "model.compile(Adam(lr=0.01),loss=\"categorical_crossentropy\", metrics=[\"accuracy\"])"
   ]
  },
  {
   "cell_type": "code",
   "execution_count": 86,
   "metadata": {},
   "outputs": [
    {
     "name": "stdout",
     "output_type": "stream",
     "text": [
      "Epoch 1/2\n",
      "5216/5216 [==============================] - 99s 19ms/step - loss: 0.4421 - acc: 0.9022\n",
      "Epoch 2/2\n",
      "5216/5216 [==============================] - 97s 19ms/step - loss: 0.2537 - acc: 0.9268\n"
     ]
    },
    {
     "data": {
      "text/plain": [
       "<keras.callbacks.History at 0x122ed3ef0>"
      ]
     },
     "execution_count": 86,
     "metadata": {},
     "output_type": "execute_result"
    }
   ],
   "source": [
    "model.fit(Train_x,Train_y,epochs=2,batch_size=64)"
   ]
  },
  {
   "cell_type": "code",
   "execution_count": 87,
   "metadata": {},
   "outputs": [
    {
     "name": "stdout",
     "output_type": "stream",
     "text": [
      "622/622 [==============================] - 4s 6ms/step\n",
      "Loss of test set =  1.0478083171082175\n",
      "Accuracy =  0.8360128617363344\n"
     ]
    }
   ],
   "source": [
    "temp  = model.evaluate(Test_x,Test_y)\n",
    "print ('Loss of test set = ', temp[0])\n",
    "print ('Accuracy = ', temp[1])"
   ]
  },
  {
   "cell_type": "code",
   "execution_count": 105,
   "metadata": {},
   "outputs": [
    {
     "data": {
      "text/plain": [
       "<matplotlib.image.AxesImage at 0x12780b0b8>"
      ]
     },
     "execution_count": 105,
     "metadata": {},
     "output_type": "execute_result"
    },
    {
     "data": {
      "image/png": "[encoded data removed]",
      "text/plain": [
       "<Figure size 432x288 with 1 Axes>"
      ]
     },
     "metadata": {},
     "output_type": "display_data"
    }
   ],
   "source": [
    "plt.imshow(Test_x[10,:,:,:])"
   ]
  },
  {
   "cell_type": "code",
   "execution_count": 106,
   "metadata": {},
   "outputs": [
    {
     "name": "stdout",
     "output_type": "stream",
     "text": [
      "P(Normal) =  0.98831314\n",
      "P(Pneumonia) =  0.011686856\n",
      "Normal\n"
     ]
    }
   ],
   "source": [
    "prob = model.predict(np.expand_dims(Test_x[70,:,:,:], axis=0))\n",
    "print ('P(Normal) = ', prob[0][0])\n",
    "print ('P(Pneumonia) = ', prob[0][1])\n",
    "\n",
    "if prob[0][0] > prob[0][1]:\n",
    "    print ('Normal')\n",
    "elif prob[0][0] < prob[0][1]:\n",
    "    print ('Pneumonia')\n",
    "else:\n",
    "    print ('Equal probability')"
   ]
  },
  {
   "cell_type": "code",
   "execution_count": null,
   "metadata": {},
   "outputs": [],
   "source": []
  },
  {
   "cell_type": "code",
   "execution_count": null,
   "metadata": {},
   "outputs": [],
   "source": []
  },
  {
   "cell_type": "code",
   "execution_count": null,
   "metadata": {},
   "outputs": [],
   "source": []
  },
  {
   "cell_type": "code",
   "execution_count": null,
   "metadata": {},
   "outputs": [],
   "source": []
  }
 ],
 "metadata": {
  "kernelspec": {
   "display_name": "Python 3",
   "language": "python",
   "name": "python3"
  },
  "language_info": {
   "codemirror_mode": {
    "name": "ipython",
    "version": 3
   },
   "file_extension": ".py",
   "mimetype": "text/x-python",
   "name": "python",
   "nbconvert_exporter": "python",
   "pygments_lexer": "ipython3",
   "version": "3.6.5"
  }
 },
 "nbformat": 4,
 "nbformat_minor": 2
}
